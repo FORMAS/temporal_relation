{
 "cells": [
  {
   "cell_type": "markdown",
   "id": "dacd615b-5ae6-4650-a701-78624302c172",
   "metadata": {},
   "source": [
    "**Experimentos para artigo:**\n",
    "\n",
    "**\"Identificação de Relações Temporais em Português com Abordagem Baseada em Regras\"**\n",
    "\n",
    "Dárcio Santos Rocha  \n",
    "Mestrado em Ciências da Computação  \n",
    "Universidade Federal da Bahia  "
   ]
  },
  {
   "cell_type": "markdown",
   "id": "7fdd80c8-2c63-4223-bf90-2574a72fc5b5",
   "metadata": {},
   "source": [
    "## REGRAS"
   ]
  },
  {
   "cell_type": "code",
   "execution_count": 1,
   "id": "3cbadc1a-8b26-4f8e-9f0e-76b099e6d2dd",
   "metadata": {
    "tags": []
   },
   "outputs": [],
   "source": [
    "from parse.ParseTimebankPT import TimebankPT, RelacaoTemporal\n",
    "\n",
    "#Ordem por acurácia das regras aplicadas individualmente - alto custo computacional\n",
    "sort_rules_accuracy     = [271, 92, 112, 98, 108, 183, 199, 197, 99, 9, 171, 100, 137, 115, 90, 97, 278, 198, 187, 39, 139, 196, 138, 140, 202, 111, 89, 201, 172, 150, 141, 237, 107, 110, 189, 31, 24, 166, 34, 101, 33]\n",
    "\n",
    "#[código, tipo de relação, ordem de execução, expressão lógica que representa a regra]\n",
    "#ORD COM NÚM NEGATIVO TORNA A REGRA INATIVA\n",
    "rules = [\n",
    "    [271,    \"OVERLAP\",     1, \"self.f.is_dependencyType(tokenE, tokenT, 'nsubj') and self.f.followedBy(tokenT, tokenE)\"],\n",
    "    [237,    \"AFTER\",       3, \"self.f.is_dependencyType(tokenE, tokenT, 'advcl')\"],\n",
    "    [183,    \"AFTER\",       4, \"( self.f.tenseVerb(tokenE, 'Past') or self.f.morph(tokenE, ('VerbForm', 'Part')) )  and ( self.f.hasWordInContextPrecede(tokenE, ['anterior'], 10) or self.f.hasWordInContextFollow(tokenE, ['anterior'], 10) )\"],\n",
    "    [166,    \"OVERLAP\",     5, \"self.f.verbGerundio(tokenE) and self.f.dep(tokenE, 'advcl') and self.f.dep(tokenT, ['obl', 'nmod'])\"],\n",
    "    [115,    \"OVERLAP\",     6, \"self.f.tenseVerb(tokenE, 'Fut') and self.f.hasWordInBetween(tokenE, tokenT, 'para') and self.f.hasNoVerbInBetween(tokenE, tokenT)\"], \n",
    "    [108,    \"OVERLAP\",     7, \"self.f.search(['começar'], tokenE)\"],  \n",
    "    [101,    \"OVERLAP\",     8, \"self.f.hasWordInContextPrecede(tokenE, ['quando', 'em que'])\"],   \n",
    "    [98,     \"OVERLAP\",     9, \"self.f.search(['começou', 'começado', 'iniciou', 'iniciado'], tokenE) and self.f.closelyFollowing(tokenE, tokenT)\"],\n",
    "    [97,     \"OVERLAP\",    10, \"self.f.hasWordInContextPrecede(tokenT, ['iniciar', 'começar'], lemma=True) and (self.f.hasWordInContextPrecede(tokenE, ['através', 'pelo'], lemma=True) or self.f.hasWordInContextPrecede(tokenE, ['de', 'do', 'da', 'até', 'à', 'durante']))\"],  \n",
    "    [92,     \"BEFORE\",     11, \"self.f.hasWordInContextPrecede(tokenE, 'então')\"],  \n",
    "    [24,     \"OVERLAP\",    12, \"self.f.morph(tokenE, ('VerbForm', 'Inf')) and self.f.pos(tokenT, 'Noun') and self.f.hasWordInContextFollow(tokenE, tokenT.text)\"],  \n",
    "    [9,      \"OVERLAP\",    13, \"self.f.search(['hoje', 'atualmente'], tokenT, lemma = True) and self.f.tenseVerb(tokenE, 'PAST') and self.f.closelyFollowing(tokenE, tokenT)\"],\n",
    "    [150,    \"OVERLAP\",    15, \"self.f.followedBy(tokenT, ['para','a'], 5) and self.f.followedBy(tokenT, tokenE, 10)\"],\n",
    "    [278,    \"OVERLAP\",    22, \"self.f.is_dependencyType(tokenE, tokenT, 'amod') and self.f.tipo(tokenT, ['DATE', 'TIME']) and self.f.morph(tokenE, ('Tense', '')) and self.f.classe(tokenE, ['OCCURRENCE', 'STATE'])\"],\n",
    "    [189,    \"OVERLAP\",    24, \"self.f.tipo(tokenT, ['DURATION']) and self.f.classe(tokenE, ['OCCURRENCE']) and self.f.closelyFollowing(tokenE, tokenT, 15)\"],  \n",
    "    [107,    \"OVERLAP\",    25, \"self.f.classe(tokenE, ['OCCURRENCE']) and self.f.hasDepInContextPrecede(tokenT, 'cc', 5) and self.f.tipo(tokenT, ['DURATION'])\"], \n",
    "    [90,     \"AFTER\",      26, \"self.f.search('ontem', tokenT.text) and self.f.tenseVerb(tokenE, 'Fut')\"],\n",
    "    [39,     \"OVERLAP\",    27, \"( self.f.hasWordInContextFollow(tokenE, 'antes') or self.f.hasWordInContextPrecede(tokenT, 'antes') ) and not self.f.tenseVerb(tokenE, 'Fut') and self.f.hasNoVerbInBetween(tokenE, tokenT)\"], \n",
    "    [202,    \"OVERLAP\",    28, \"self.f.tipo(tokenT, ['DURATION']) and self.f.classe(tokenE, ['OCCURRENCE']) and self.f.hasNoVerbInBetween(tokenE, tokenT)\"],\n",
    "    [201,    \"OVERLAP\",    29, \"self.f.tipo(tokenT, ['DURATION']) and self.f.classe(tokenE, ['OCCURRENCE']) and ( self.f.followedBy(tokenE, tokenT, 5) or self.f.followedBy(tokenT, tokenE, 5) )\"], \n",
    "    [199,    \"OVERLAP\",    30, \"self.f.classe(tokenE, ['REPORTING']) and self.f.tipo(tokenT, ['DURATION']) and self.f.hasWordInContextPrecede(tokenT, ['no', 'em'])\"],   \n",
    "    [197,    \"OVERLAP\",    31, \"self.f.tipo(tokenT, ['TIME']) and self.f.classe(tokenE, ['STATE']) and ( self.f.precededBy(tokenT, tokenE, 2) or self.f.followedBy(tokenT, tokenE, 2) )\"],\n",
    "    [137,    \"OVERLAP\",    32, \"self.f.tipo(tokenT, ['TIME']) and self.f.precededBy(tokenT, 'str', ['em', 'no', 'na']) and self.f.hasNoVerbInBetween(tokenE, tokenT) and self.f.closelyFollowing(tokenE, tokenT, 10)\"],    \n",
    "    [171,    \"OVERLAP\",    33, \"self.f.tipo(tokenT, ['DATE']) and self.f.classe(tokenE, ['STATE']) and self.f.search(['agora', 'atualmente'], tokenT.text) and self.f.precededBy(tokenT, 'token', tokenE)\"],    \n",
    "    [141,    \"OVERLAP\",    34, \"self.f.tipo(tokenT, ['DURATION']) and self.f.classe(tokenE, ['OCCURRENCE']) and self.f.hasWordInContextFollow(tokenT, tokenE.text, 10)\"],    \n",
    "    [139,    \"OVERLAP\",    35, \"self.f.tipo(tokenT, ['DURATION']) and self.f.hasWordInBetween(tokenE, tokenT, ['durante', 'para']) and self.f.hasNoVerbInBetween(tokenE, tokenT)\"],   \n",
    "    [138,    \"OVERLAP\",    36, \"self.f.classe(tokenE, ['STATE']) and self.f.tipo(tokenT, ['DATE']) and self.f.hasWordInBetween(tokenE, tokenT, ['em', 'no', 'na']) and self.f.closelyFollowing(tokenE, tokenT, 20) and self.f.pos(tokenE, ['verb', 'noun']) and not self.f.dep(tokenE, ['obl', 'nummod'])\"],  \n",
    "    [112,    \"BEFORE\",     37, \"self.f.hasWordInContextPrecede(tokenT, 'até') and self.f.tenseVerb(tokenE, 'PAST')\"],    \n",
    "    [99,     \"AFTER\",      38, \"self.f.tenseVerb(tokenE, 'Pres') and self.f.tipo(tokenT, ['DATE']) and self.f.hasWordInContextPrecede(tokenT, 'desde')\"],    \n",
    "    [100,    \"AFTER\",      39, \"self.f.tipo(tokenT, ['DURATION']) and self.f.hasWordInContextFollow(tokenT, ['depois', 'após']) and self.f.tenseVerb(tokenE, 'Past')\"],\n",
    "    [196,    \"OVERLAP\",    40, \"self.f.classe(tokenE, ['STATE']) and self.f.tipo(tokenT, ['DURATION']) and self.f.closelyFollowing(tokenE, tokenT, 20) and self.f.pos(tokenE, ['verb', 'noun'])\"],\n",
    "    [140,    \"OVERLAP\",    41, \"self.f.classe(tokenE, ['OCCURRENCE']) and self.f.hasWordInContextFollow(tokenT, tokenE.text) and not self.f.dep(tokenE, ['obl', 'obl:agent', 'acl', 'acl:relcl', 'conj'])\"],  \n",
    "    [172,    \"OVERLAP\",    42, \"self.f.classe(tokenE, ['STATE']) and self.f.closelyFollowing(tokenE, tokenT, 20) and self.f.pos(tokenE, ['NOUN', 'VERB']) \"],  \n",
    "    [111,    \"OVERLAP\",    43, \"self.f.tipo(tokenT, ['DURATION']) and self.f.classe(tokenE, ['REPORTING']) and self.f.tenseVerb(tokenE, 'Pres')\"],\n",
    "    [198,    \"OVERLAP\",    44, \"self.f.tipo(tokenT, ['DURATION']) and self.f.hasWordInContextPrecede(tokenT, ['para', 'durante']) and self.f.closelyFollowing(tokenE, tokenT)\"],    \n",
    "    [110,    \"OVERLAP\",    45, \"self.f.tenseVerb(tokenE, 'Past') and self.f.tipo(tokenT, ['DATE']) and self.f.hasWordInContextPrecede(tokenT, 'durante')\"],    \n",
    "    [89,     \"BEFORE\",     46, \"self.f.hasWordInContextPrecede(tokenT, 'até') and self.f.tipo(tokenT, ['DATE']) and self.f.pos(tokenE.head, ['VERB'])\"],\n",
    "    [34,     \"AFTER\",      47, \"self.f.hasWordInBetween(tokenE, tokenT, 'após') and self.f.closelyFollowing(tokenE, tokenT)\"],\n",
    "    [33,     \"AFTER\",      48, \"self.f.search('ontem', tokenT.text) and self.f.tenseVerb(tokenE, 'Pres')\"],  \n",
    "    [187,    \"OVERLAP\",    50, \"self.f.tipo(tokenT, ['DURATION']) and ( self.f.hasWordInContextPrecede(tokenT, ['para', 'durante']) or self.f.hasWordInContextFollow(tokenE, ['para', 'durante']) ) and self.f.closelyFollowing(tokenE, tokenT)\"],  \n",
    "    [31,     \"AFTER\",      51, \"self.f.tipo(tokenT, ['DATE']) and self.f.tenseVerb(tokenE, ['Past']) and self.f.hasWordInContextPrecede(tokenT, ['em'], 1) and self.f.tenseVerb(tokenE.head, ['Past'])\"],    \n",
    "]\n"
   ]
  },
  {
   "cell_type": "markdown",
   "id": "dfab17f2-d429-40db-9286-7e24ae088cc8",
   "metadata": {
    "tags": []
   },
   "source": [
    "# RESULTADO TREINO"
   ]
  },
  {
   "cell_type": "code",
   "execution_count": 5,
   "id": "5b9eb5f0-4e73-4037-99eb-6d32f0d41a18",
   "metadata": {
    "tags": []
   },
   "outputs": [
    {
     "name": "stdout",
     "output_type": "stream",
     "text": [
      "SEQUÊNCIA PIPELINE: PORTUGUÊS\n",
      "   1 -> tok2vec\n",
      "   2 -> morphologizer\n",
      "   3 -> parser\n",
      "   4 -> attribute_ruler\n",
      "   5 -> lemmatizer\n",
      "   6 -> ner\n",
      "   7 -> pipe_timebankpt\n",
      "   8 -> merge_entities\n",
      "\n",
      "\n",
      "Wall time: 22.5 s\n",
      "TRAIN\n"
     ]
    }
   ],
   "source": [
    "path_tml = r'TimeBankPT\\train\\*.tml'\n",
    "%time tb = TimebankPT(path_tml)\n",
    "\n",
    "dev = tb.train_test(path_tml).upper()\n",
    "print(dev)\n",
    "\n",
    "rt = RelacaoTemporal(tb)\n",
    "rt.rules = rules"
   ]
  },
  {
   "cell_type": "markdown",
   "id": "be5627bc-ee6a-4190-bfb6-744417e6287f",
   "metadata": {},
   "source": [
    "### SISTEMA SEM OTIMIZAÇÃO"
   ]
  },
  {
   "cell_type": "code",
   "execution_count": 6,
   "id": "d502a3ee-d7cc-48cc-b52d-ce8f199dcadd",
   "metadata": {
    "jupyter": {
     "source_hidden": true
    },
    "tags": []
   },
   "outputs": [
    {
     "name": "stdout",
     "output_type": "stream",
     "text": [
      "TRAIN\n",
      "Wall time: 1min\n",
      "PURO\n"
     ]
    },
    {
     "data": {
      "text/html": [
       "<div>\n",
       "<style scoped>\n",
       "    .dataframe tbody tr th:only-of-type {\n",
       "        vertical-align: middle;\n",
       "    }\n",
       "\n",
       "    .dataframe tbody tr th {\n",
       "        vertical-align: top;\n",
       "    }\n",
       "\n",
       "    .dataframe thead th {\n",
       "        text-align: right;\n",
       "    }\n",
       "</style>\n",
       "<table border=\"1\" class=\"dataframe\">\n",
       "  <thead>\n",
       "    <tr style=\"text-align: right;\">\n",
       "      <th>Resultado</th>\n",
       "      <th>Erros</th>\n",
       "      <th>Acertos</th>\n",
       "      <th>Total</th>\n",
       "      <th>Extras</th>\n",
       "      <th>pct_acerto</th>\n",
       "    </tr>\n",
       "    <tr>\n",
       "      <th>task</th>\n",
       "      <th></th>\n",
       "      <th></th>\n",
       "      <th></th>\n",
       "      <th></th>\n",
       "      <th></th>\n",
       "    </tr>\n",
       "  </thead>\n",
       "  <tbody>\n",
       "    <tr>\n",
       "      <th>A</th>\n",
       "      <td>132</td>\n",
       "      <td>330</td>\n",
       "      <td>462</td>\n",
       "      <td>504</td>\n",
       "      <td>34.16</td>\n",
       "    </tr>\n",
       "  </tbody>\n",
       "</table>\n",
       "</div>"
      ],
      "text/plain": [
       "Resultado  Erros  Acertos  Total  Extras  pct_acerto\n",
       "task                                                \n",
       "A            132      330    462     504       34.16"
      ]
     },
     "metadata": {},
     "output_type": "display_data"
    },
    {
     "data": {
      "text/html": [
       "<div>\n",
       "<style scoped>\n",
       "    .dataframe tbody tr th:only-of-type {\n",
       "        vertical-align: middle;\n",
       "    }\n",
       "\n",
       "    .dataframe tbody tr th {\n",
       "        vertical-align: top;\n",
       "    }\n",
       "\n",
       "    .dataframe thead th {\n",
       "        text-align: right;\n",
       "    }\n",
       "</style>\n",
       "<table border=\"1\" class=\"dataframe\">\n",
       "  <thead>\n",
       "    <tr style=\"text-align: right;\">\n",
       "      <th></th>\n",
       "      <th>Resultado</th>\n",
       "      <th>Erros</th>\n",
       "      <th>Acertos</th>\n",
       "      <th>Total</th>\n",
       "      <th>Extras</th>\n",
       "      <th>pct_acerto</th>\n",
       "    </tr>\n",
       "    <tr>\n",
       "      <th>task</th>\n",
       "      <th>relType_pred</th>\n",
       "      <th></th>\n",
       "      <th></th>\n",
       "      <th></th>\n",
       "      <th></th>\n",
       "      <th></th>\n",
       "    </tr>\n",
       "  </thead>\n",
       "  <tbody>\n",
       "    <tr>\n",
       "      <th rowspan=\"3\" valign=\"top\">A</th>\n",
       "      <th>BEFORE</th>\n",
       "      <td>13</td>\n",
       "      <td>33</td>\n",
       "      <td>46</td>\n",
       "      <td>39</td>\n",
       "      <td>38.82</td>\n",
       "    </tr>\n",
       "    <tr>\n",
       "      <th>AFTER</th>\n",
       "      <td>21</td>\n",
       "      <td>28</td>\n",
       "      <td>49</td>\n",
       "      <td>29</td>\n",
       "      <td>35.90</td>\n",
       "    </tr>\n",
       "    <tr>\n",
       "      <th>OVERLAP</th>\n",
       "      <td>98</td>\n",
       "      <td>269</td>\n",
       "      <td>367</td>\n",
       "      <td>436</td>\n",
       "      <td>33.50</td>\n",
       "    </tr>\n",
       "  </tbody>\n",
       "</table>\n",
       "</div>"
      ],
      "text/plain": [
       "Resultado          Erros  Acertos  Total  Extras  pct_acerto\n",
       "task relType_pred                                           \n",
       "A    BEFORE           13       33     46      39       38.82\n",
       "     AFTER            21       28     49      29       35.90\n",
       "     OVERLAP          98      269    367     436       33.50"
      ]
     },
     "metadata": {},
     "output_type": "display_data"
    },
    {
     "name": "stdout",
     "output_type": "stream",
     "text": [
      "\n",
      "\n",
      "              precision    recall  f1-score   support\n",
      "\n",
      "                  0.000     0.000     0.000       504\n",
      "       AFTER      0.359     0.326     0.341        86\n",
      "      BEFORE      0.388     0.412     0.400        80\n",
      "     OVERLAP      0.335     0.928     0.492       290\n",
      "       VAGUE      0.000     0.000     0.000         6\n",
      "\n",
      "    accuracy                          0.342       966\n",
      "   macro avg      0.216     0.333     0.247       966\n",
      "weighted avg      0.165     0.342     0.211       966\n",
      "\n"
     ]
    },
    {
     "data": {
      "image/png": "[encoded data removed]",
      "text/plain": [
       "<Figure size 360x288 with 2 Axes>"
      ]
     },
     "metadata": {
      "needs_background": "light"
     },
     "output_type": "display_data"
    }
   ],
   "source": [
    "#PROCESSA TODAS SENTENÇAS QUE CONTEM A TASK 'A'\n",
    "\n",
    "print(dev.upper())\n",
    "rt.task = 'A'\n",
    "#rt.sort_rules('codigo_regra', reverse = False)   # 'codigo_regra', 'tipo_relacao', 'ordem', 'random'\n",
    "rt.sort_rules(sort_rules_accuracy)\n",
    "\n",
    "rt.processing_type = 'peneira'  # 'peneira' OR 'votacao'\n",
    "rt.active_tlink_transitive = False\n",
    "rt.active_tlink_candidate  = False\n",
    "rt.tlink_candidate.approach = 'ML'  # 'REGRAS_TREE', 'ML' or 'REGRAS'\n",
    "rt.tlink_candidate.threshold = 0.3\n",
    "\n",
    "#processa todas as sentenças da task 'A'\n",
    "%time rt.process_rules()\n",
    "\n",
    "#Resumo do processamento\n",
    "#rt.process_resume()\n",
    "#rt.status()\n",
    "\n",
    "print('PURO')\n",
    "display(rt.df_resultado_por_task, rt.df_resultado_por_classe)\n",
    "rt.cm()"
   ]
  },
  {
   "cell_type": "markdown",
   "id": "66d5bc3f-8c5f-4c98-aa71-4cfbd766b7b7",
   "metadata": {},
   "source": [
    "### + PARES CANDIDATOS"
   ]
  },
  {
   "cell_type": "code",
   "execution_count": 5,
   "id": "2410b747-ce73-412f-bf0a-8bc07f0c8ec4",
   "metadata": {
    "jupyter": {
     "source_hidden": true
    },
    "tags": []
   },
   "outputs": [
    {
     "name": "stdout",
     "output_type": "stream",
     "text": [
      "Wall time: 1min 10s\n",
      "SÓ CANDIDATE\n"
     ]
    },
    {
     "data": {
      "text/html": [
       "<div>\n",
       "<style scoped>\n",
       "    .dataframe tbody tr th:only-of-type {\n",
       "        vertical-align: middle;\n",
       "    }\n",
       "\n",
       "    .dataframe tbody tr th {\n",
       "        vertical-align: top;\n",
       "    }\n",
       "\n",
       "    .dataframe thead th {\n",
       "        text-align: right;\n",
       "    }\n",
       "</style>\n",
       "<table border=\"1\" class=\"dataframe\">\n",
       "  <thead>\n",
       "    <tr style=\"text-align: right;\">\n",
       "      <th>Resultado</th>\n",
       "      <th>Erros</th>\n",
       "      <th>Acertos</th>\n",
       "      <th>Total</th>\n",
       "      <th>Extras</th>\n",
       "      <th>pct_acerto</th>\n",
       "    </tr>\n",
       "    <tr>\n",
       "      <th>task</th>\n",
       "      <th></th>\n",
       "      <th></th>\n",
       "      <th></th>\n",
       "      <th></th>\n",
       "      <th></th>\n",
       "    </tr>\n",
       "  </thead>\n",
       "  <tbody>\n",
       "    <tr>\n",
       "      <th>A</th>\n",
       "      <td>132</td>\n",
       "      <td>329</td>\n",
       "      <td>461</td>\n",
       "      <td>472</td>\n",
       "      <td>35.26</td>\n",
       "    </tr>\n",
       "  </tbody>\n",
       "</table>\n",
       "</div>"
      ],
      "text/plain": [
       "Resultado  Erros  Acertos  Total  Extras  pct_acerto\n",
       "task                                                \n",
       "A            132      329    461     472       35.26"
      ]
     },
     "metadata": {},
     "output_type": "display_data"
    },
    {
     "data": {
      "text/html": [
       "<div>\n",
       "<style scoped>\n",
       "    .dataframe tbody tr th:only-of-type {\n",
       "        vertical-align: middle;\n",
       "    }\n",
       "\n",
       "    .dataframe tbody tr th {\n",
       "        vertical-align: top;\n",
       "    }\n",
       "\n",
       "    .dataframe thead th {\n",
       "        text-align: right;\n",
       "    }\n",
       "</style>\n",
       "<table border=\"1\" class=\"dataframe\">\n",
       "  <thead>\n",
       "    <tr style=\"text-align: right;\">\n",
       "      <th></th>\n",
       "      <th>Resultado</th>\n",
       "      <th>Erros</th>\n",
       "      <th>Acertos</th>\n",
       "      <th>Total</th>\n",
       "      <th>Extras</th>\n",
       "      <th>pct_acerto</th>\n",
       "    </tr>\n",
       "    <tr>\n",
       "      <th>task</th>\n",
       "      <th>relType_pred</th>\n",
       "      <th></th>\n",
       "      <th></th>\n",
       "      <th></th>\n",
       "      <th></th>\n",
       "      <th></th>\n",
       "    </tr>\n",
       "  </thead>\n",
       "  <tbody>\n",
       "    <tr>\n",
       "      <th rowspan=\"3\" valign=\"top\">A</th>\n",
       "      <th>BEFORE</th>\n",
       "      <td>13</td>\n",
       "      <td>33</td>\n",
       "      <td>46</td>\n",
       "      <td>36</td>\n",
       "      <td>40.24</td>\n",
       "    </tr>\n",
       "    <tr>\n",
       "      <th>AFTER</th>\n",
       "      <td>21</td>\n",
       "      <td>28</td>\n",
       "      <td>49</td>\n",
       "      <td>28</td>\n",
       "      <td>36.36</td>\n",
       "    </tr>\n",
       "    <tr>\n",
       "      <th>OVERLAP</th>\n",
       "      <td>98</td>\n",
       "      <td>268</td>\n",
       "      <td>366</td>\n",
       "      <td>408</td>\n",
       "      <td>34.63</td>\n",
       "    </tr>\n",
       "  </tbody>\n",
       "</table>\n",
       "</div>"
      ],
      "text/plain": [
       "Resultado          Erros  Acertos  Total  Extras  pct_acerto\n",
       "task relType_pred                                           \n",
       "A    BEFORE           13       33     46      36       40.24\n",
       "     AFTER            21       28     49      28       36.36\n",
       "     OVERLAP          98      268    366     408       34.63"
      ]
     },
     "metadata": {},
     "output_type": "display_data"
    },
    {
     "name": "stdout",
     "output_type": "stream",
     "text": [
      "\n",
      "\n",
      "              precision    recall  f1-score   support\n",
      "\n",
      "                  0.000     0.000     0.000       472\n",
      "       AFTER      0.364     0.326     0.344        86\n",
      "      BEFORE      0.402     0.412     0.407        80\n",
      "     OVERLAP      0.346     0.927     0.504       289\n",
      "       VAGUE      0.000     0.000     0.000         6\n",
      "\n",
      "    accuracy                          0.353       933\n",
      "   macro avg      0.222     0.333     0.251       933\n",
      "weighted avg      0.175     0.353     0.223       933\n",
      "\n"
     ]
    },
    {
     "data": {
      "image/png": "[encoded data removed]",
      "text/plain": [
       "<Figure size 360x288 with 2 Axes>"
      ]
     },
     "metadata": {
      "needs_background": "light"
     },
     "output_type": "display_data"
    }
   ],
   "source": [
    "rt.active_tlink_transitive = False\n",
    "rt.active_tlink_candidate  = True\n",
    "rt.tlink_candidate.approach = 'ML'  # 'REGRAS_TREE', 'ML' or 'REGRAS'\n",
    "rt.tlink_candidate.threshold = 0.3\n",
    "\n",
    "#processa todas as sentenças da task 'A'\n",
    "%time rt.process_rules()\n",
    "\n",
    "print('SÓ CANDIDATE')\n",
    "display(rt.df_resultado_por_task, rt.df_resultado_por_classe)\n",
    "rt.cm()"
   ]
  },
  {
   "cell_type": "markdown",
   "id": "f01e62ac-9028-42a2-a0c2-a941ca3090fb",
   "metadata": {},
   "source": [
    "### + FECHAMENTO TRANSITIVO"
   ]
  },
  {
   "cell_type": "code",
   "execution_count": 7,
   "id": "39bee64a-5fdd-4816-9615-a7246f9616de",
   "metadata": {
    "jupyter": {
     "source_hidden": true
    },
    "tags": []
   },
   "outputs": [
    {
     "name": "stdout",
     "output_type": "stream",
     "text": [
      "Wall time: 1min 8s\n",
      "OS DOIS\n"
     ]
    },
    {
     "data": {
      "text/html": [
       "<div>\n",
       "<style scoped>\n",
       "    .dataframe tbody tr th:only-of-type {\n",
       "        vertical-align: middle;\n",
       "    }\n",
       "\n",
       "    .dataframe tbody tr th {\n",
       "        vertical-align: top;\n",
       "    }\n",
       "\n",
       "    .dataframe thead th {\n",
       "        text-align: right;\n",
       "    }\n",
       "</style>\n",
       "<table border=\"1\" class=\"dataframe\">\n",
       "  <thead>\n",
       "    <tr style=\"text-align: right;\">\n",
       "      <th>Resultado</th>\n",
       "      <th>Erros</th>\n",
       "      <th>Acertos</th>\n",
       "      <th>Total</th>\n",
       "      <th>Extras</th>\n",
       "      <th>pct_acerto</th>\n",
       "    </tr>\n",
       "    <tr>\n",
       "      <th>task</th>\n",
       "      <th></th>\n",
       "      <th></th>\n",
       "      <th></th>\n",
       "      <th></th>\n",
       "      <th></th>\n",
       "    </tr>\n",
       "  </thead>\n",
       "  <tbody>\n",
       "    <tr>\n",
       "      <th>A</th>\n",
       "      <td>152</td>\n",
       "      <td>343</td>\n",
       "      <td>495</td>\n",
       "      <td>523</td>\n",
       "      <td>33.69</td>\n",
       "    </tr>\n",
       "  </tbody>\n",
       "</table>\n",
       "</div>"
      ],
      "text/plain": [
       "Resultado  Erros  Acertos  Total  Extras  pct_acerto\n",
       "task                                                \n",
       "A            152      343    495     523       33.69"
      ]
     },
     "metadata": {},
     "output_type": "display_data"
    },
    {
     "data": {
      "text/html": [
       "<div>\n",
       "<style scoped>\n",
       "    .dataframe tbody tr th:only-of-type {\n",
       "        vertical-align: middle;\n",
       "    }\n",
       "\n",
       "    .dataframe tbody tr th {\n",
       "        vertical-align: top;\n",
       "    }\n",
       "\n",
       "    .dataframe thead th {\n",
       "        text-align: right;\n",
       "    }\n",
       "</style>\n",
       "<table border=\"1\" class=\"dataframe\">\n",
       "  <thead>\n",
       "    <tr style=\"text-align: right;\">\n",
       "      <th></th>\n",
       "      <th>Resultado</th>\n",
       "      <th>Erros</th>\n",
       "      <th>Acertos</th>\n",
       "      <th>Total</th>\n",
       "      <th>Extras</th>\n",
       "      <th>pct_acerto</th>\n",
       "    </tr>\n",
       "    <tr>\n",
       "      <th>task</th>\n",
       "      <th>relType_pred</th>\n",
       "      <th></th>\n",
       "      <th></th>\n",
       "      <th></th>\n",
       "      <th></th>\n",
       "      <th></th>\n",
       "    </tr>\n",
       "  </thead>\n",
       "  <tbody>\n",
       "    <tr>\n",
       "      <th rowspan=\"3\" valign=\"top\">A</th>\n",
       "      <th>BEFORE</th>\n",
       "      <td>13</td>\n",
       "      <td>35</td>\n",
       "      <td>48</td>\n",
       "      <td>39</td>\n",
       "      <td>40.23</td>\n",
       "    </tr>\n",
       "    <tr>\n",
       "      <th>OVERLAP</th>\n",
       "      <td>112</td>\n",
       "      <td>279</td>\n",
       "      <td>391</td>\n",
       "      <td>449</td>\n",
       "      <td>33.21</td>\n",
       "    </tr>\n",
       "    <tr>\n",
       "      <th>AFTER</th>\n",
       "      <td>27</td>\n",
       "      <td>29</td>\n",
       "      <td>56</td>\n",
       "      <td>35</td>\n",
       "      <td>31.87</td>\n",
       "    </tr>\n",
       "  </tbody>\n",
       "</table>\n",
       "</div>"
      ],
      "text/plain": [
       "Resultado          Erros  Acertos  Total  Extras  pct_acerto\n",
       "task relType_pred                                           \n",
       "A    BEFORE           13       35     48      39       40.23\n",
       "     OVERLAP         112      279    391     449       33.21\n",
       "     AFTER            27       29     56      35       31.87"
      ]
     },
     "metadata": {},
     "output_type": "display_data"
    },
    {
     "name": "stdout",
     "output_type": "stream",
     "text": [
      "\n",
      "\n",
      "              precision    recall  f1-score   support\n",
      "\n",
      "                  0.000     0.000     0.000       523\n",
      "       AFTER      0.319     0.302     0.310        96\n",
      "      BEFORE      0.402     0.393     0.398        89\n",
      "     OVERLAP      0.332     0.924     0.489       302\n",
      "       VAGUE      0.000     0.000     0.000         8\n",
      "\n",
      "    accuracy                          0.337      1018\n",
      "   macro avg      0.211     0.324     0.239      1018\n",
      "weighted avg      0.164     0.337     0.209      1018\n",
      "\n"
     ]
    },
    {
     "data": {
      "image/png": "[encoded data removed]",
      "text/plain": [
       "<Figure size 360x288 with 2 Axes>"
      ]
     },
     "metadata": {
      "needs_background": "light"
     },
     "output_type": "display_data"
    }
   ],
   "source": [
    "rt.active_tlink_transitive = True\n",
    "rt.active_tlink_candidate  = True\n",
    "rt.tlink_candidate.approach = 'ML'  # 'REGRAS_TREE', 'ML' or 'REGRAS'\n",
    "rt.tlink_candidate.threshold = 0.3\n",
    "\n",
    "#processa todas as sentenças da task 'A'\n",
    "%time rt.process_rules()\n",
    "\n",
    "print('OS DOIS')\n",
    "display(rt.df_resultado_por_task, rt.df_resultado_por_classe)\n",
    "rt.cm()"
   ]
  },
  {
   "cell_type": "markdown",
   "id": "084038d2-bb0d-49b3-a7f8-f1e14f6aa012",
   "metadata": {},
   "source": [
    "<BR>\n",
    "<BR>\n",
    "<HR>"
   ]
  },
  {
   "cell_type": "markdown",
   "id": "71e0d9c4-94de-4c87-87a5-23a228625234",
   "metadata": {
    "tags": []
   },
   "source": [
    "# RESULTADO TESTE"
   ]
  },
  {
   "cell_type": "code",
   "execution_count": 2,
   "id": "1ba2e79f-65f9-42c9-bab8-de9e9ea261f5",
   "metadata": {
    "jupyter": {
     "source_hidden": true
    },
    "tags": []
   },
   "outputs": [
    {
     "name": "stdout",
     "output_type": "stream",
     "text": [
      "SEQUÊNCIA PIPELINE: PORTUGUÊS\n",
      "   1 -> tok2vec\n",
      "   2 -> morphologizer\n",
      "   3 -> parser\n",
      "   4 -> attribute_ruler\n",
      "   5 -> lemmatizer\n",
      "   6 -> ner\n",
      "   7 -> pipe_timebankpt\n",
      "   8 -> merge_entities\n",
      "\n",
      "\n",
      "Wall time: 11.6 s\n",
      "TRAIN_TEST\n"
     ]
    }
   ],
   "source": [
    "path_tml = r'TimeBankPT\\train_test\\*.tml'\n",
    "%time tb = TimebankPT(path_tml)\n",
    "\n",
    "dev = tb.train_test(path_tml).upper()\n",
    "print(dev)\n",
    "\n",
    "rt = RelacaoTemporal(tb)\n",
    "rt.rules = rules"
   ]
  },
  {
   "cell_type": "markdown",
   "id": "a3ea6c31-a3a0-46e8-97fd-b714d242dce2",
   "metadata": {},
   "source": [
    "### SISTEMA SEM OTIMIZAÇÃO"
   ]
  },
  {
   "cell_type": "code",
   "execution_count": 3,
   "id": "b4e9a943-e593-4f18-8b61-7820425b83d3",
   "metadata": {
    "jupyter": {
     "source_hidden": true
    },
    "tags": []
   },
   "outputs": [
    {
     "name": "stdout",
     "output_type": "stream",
     "text": [
      "TRAIN_TEST\n",
      "Wall time: 15.8 s\n",
      "PURO\n"
     ]
    },
    {
     "data": {
      "text/html": [
       "<div>\n",
       "<style scoped>\n",
       "    .dataframe tbody tr th:only-of-type {\n",
       "        vertical-align: middle;\n",
       "    }\n",
       "\n",
       "    .dataframe tbody tr th {\n",
       "        vertical-align: top;\n",
       "    }\n",
       "\n",
       "    .dataframe thead th {\n",
       "        text-align: right;\n",
       "    }\n",
       "</style>\n",
       "<table border=\"1\" class=\"dataframe\">\n",
       "  <thead>\n",
       "    <tr style=\"text-align: right;\">\n",
       "      <th>Resultado</th>\n",
       "      <th>Erros</th>\n",
       "      <th>Acertos</th>\n",
       "      <th>Total</th>\n",
       "      <th>Extras</th>\n",
       "      <th>pct_acerto</th>\n",
       "    </tr>\n",
       "    <tr>\n",
       "      <th>task</th>\n",
       "      <th></th>\n",
       "      <th></th>\n",
       "      <th></th>\n",
       "      <th></th>\n",
       "      <th></th>\n",
       "    </tr>\n",
       "  </thead>\n",
       "  <tbody>\n",
       "    <tr>\n",
       "      <th>A</th>\n",
       "      <td>17</td>\n",
       "      <td>45</td>\n",
       "      <td>62</td>\n",
       "      <td>68</td>\n",
       "      <td>34.62</td>\n",
       "    </tr>\n",
       "  </tbody>\n",
       "</table>\n",
       "</div>"
      ],
      "text/plain": [
       "Resultado  Erros  Acertos  Total  Extras  pct_acerto\n",
       "task                                                \n",
       "A             17       45     62      68       34.62"
      ]
     },
     "metadata": {},
     "output_type": "display_data"
    },
    {
     "data": {
      "text/html": [
       "<div>\n",
       "<style scoped>\n",
       "    .dataframe tbody tr th:only-of-type {\n",
       "        vertical-align: middle;\n",
       "    }\n",
       "\n",
       "    .dataframe tbody tr th {\n",
       "        vertical-align: top;\n",
       "    }\n",
       "\n",
       "    .dataframe thead th {\n",
       "        text-align: right;\n",
       "    }\n",
       "</style>\n",
       "<table border=\"1\" class=\"dataframe\">\n",
       "  <thead>\n",
       "    <tr style=\"text-align: right;\">\n",
       "      <th></th>\n",
       "      <th>Resultado</th>\n",
       "      <th>Erros</th>\n",
       "      <th>Acertos</th>\n",
       "      <th>Total</th>\n",
       "      <th>Extras</th>\n",
       "      <th>pct_acerto</th>\n",
       "    </tr>\n",
       "    <tr>\n",
       "      <th>task</th>\n",
       "      <th>relType_pred</th>\n",
       "      <th></th>\n",
       "      <th></th>\n",
       "      <th></th>\n",
       "      <th></th>\n",
       "      <th></th>\n",
       "    </tr>\n",
       "  </thead>\n",
       "  <tbody>\n",
       "    <tr>\n",
       "      <th rowspan=\"3\" valign=\"top\">A</th>\n",
       "      <th>BEFORE</th>\n",
       "      <td>0</td>\n",
       "      <td>1</td>\n",
       "      <td>1</td>\n",
       "      <td>1</td>\n",
       "      <td>50.00</td>\n",
       "    </tr>\n",
       "    <tr>\n",
       "      <th>OVERLAP</th>\n",
       "      <td>14</td>\n",
       "      <td>42</td>\n",
       "      <td>56</td>\n",
       "      <td>66</td>\n",
       "      <td>34.43</td>\n",
       "    </tr>\n",
       "    <tr>\n",
       "      <th>AFTER</th>\n",
       "      <td>3</td>\n",
       "      <td>2</td>\n",
       "      <td>5</td>\n",
       "      <td>1</td>\n",
       "      <td>33.33</td>\n",
       "    </tr>\n",
       "  </tbody>\n",
       "</table>\n",
       "</div>"
      ],
      "text/plain": [
       "Resultado          Erros  Acertos  Total  Extras  pct_acerto\n",
       "task relType_pred                                           \n",
       "A    BEFORE            0        1      1       1       50.00\n",
       "     OVERLAP          14       42     56      66       34.43\n",
       "     AFTER             3        2      5       1       33.33"
      ]
     },
     "metadata": {},
     "output_type": "display_data"
    },
    {
     "name": "stdout",
     "output_type": "stream",
     "text": [
      "\n",
      "\n",
      "              precision    recall  f1-score   support\n",
      "\n",
      "                  0.000     0.000     0.000        68\n",
      "       AFTER      0.333     0.154     0.211        13\n",
      "      BEFORE      0.500     0.200     0.286         5\n",
      "     OVERLAP      0.344     0.955     0.506        44\n",
      "\n",
      "    accuracy                          0.346       130\n",
      "   macro avg      0.294     0.327     0.251       130\n",
      "weighted avg      0.169     0.346     0.203       130\n",
      "\n"
     ]
    },
    {
     "data": {
      "image/png": "[encoded data removed]",
      "text/plain": [
       "<Figure size 360x288 with 2 Axes>"
      ]
     },
     "metadata": {
      "needs_background": "light"
     },
     "output_type": "display_data"
    }
   ],
   "source": [
    "#PROCESSA TODAS SENTENÇAS QUE CONTEM A TASK 'A'\n",
    "\n",
    "print(dev.upper())\n",
    "rt.task = 'A'\n",
    "#rt.sort_rules('codigo_regra', reverse = False)   # 'codigo_regra', 'tipo_relacao', 'ordem', 'random'\n",
    "rt.sort_rules(sort_rules_accuracy)\n",
    "\n",
    "rt.processing_type = 'peneira'  # 'peneira' OR 'votacao'\n",
    "rt.active_tlink_transitive = False\n",
    "rt.active_tlink_candidate  = False\n",
    "rt.tlink_candidate.approach = 'ML'  # 'REGRAS_TREE', 'ML' or 'REGRAS'\n",
    "rt.tlink_candidate.threshold = 0.3\n",
    "\n",
    "#processa todas as sentenças da task 'A'\n",
    "%time rt.process_rules()\n",
    "\n",
    "#Resumo do processamento\n",
    "#rt.process_resume()\n",
    "#rt.status()\n",
    "\n",
    "print('PURO')\n",
    "display(rt.df_resultado_por_task, rt.df_resultado_por_classe)\n",
    "rt.cm()"
   ]
  },
  {
   "cell_type": "markdown",
   "id": "da622055-6ca9-47b2-a270-ae3ba5916c96",
   "metadata": {},
   "source": [
    "### + PARES CANDIDATOS"
   ]
  },
  {
   "cell_type": "code",
   "execution_count": 4,
   "id": "432be3f6-bbea-4a26-a4dd-603c2b4f2ae8",
   "metadata": {
    "jupyter": {
     "source_hidden": true
    },
    "tags": []
   },
   "outputs": [
    {
     "name": "stdout",
     "output_type": "stream",
     "text": [
      "Wall time: 7.52 s\n",
      "SÓ CANDIDATE\n"
     ]
    },
    {
     "data": {
      "text/html": [
       "<div>\n",
       "<style scoped>\n",
       "    .dataframe tbody tr th:only-of-type {\n",
       "        vertical-align: middle;\n",
       "    }\n",
       "\n",
       "    .dataframe tbody tr th {\n",
       "        vertical-align: top;\n",
       "    }\n",
       "\n",
       "    .dataframe thead th {\n",
       "        text-align: right;\n",
       "    }\n",
       "</style>\n",
       "<table border=\"1\" class=\"dataframe\">\n",
       "  <thead>\n",
       "    <tr style=\"text-align: right;\">\n",
       "      <th>Resultado</th>\n",
       "      <th>Erros</th>\n",
       "      <th>Acertos</th>\n",
       "      <th>Total</th>\n",
       "      <th>Extras</th>\n",
       "      <th>pct_acerto</th>\n",
       "    </tr>\n",
       "    <tr>\n",
       "      <th>task</th>\n",
       "      <th></th>\n",
       "      <th></th>\n",
       "      <th></th>\n",
       "      <th></th>\n",
       "      <th></th>\n",
       "    </tr>\n",
       "  </thead>\n",
       "  <tbody>\n",
       "    <tr>\n",
       "      <th>A</th>\n",
       "      <td>17</td>\n",
       "      <td>45</td>\n",
       "      <td>62</td>\n",
       "      <td>59</td>\n",
       "      <td>37.19</td>\n",
       "    </tr>\n",
       "  </tbody>\n",
       "</table>\n",
       "</div>"
      ],
      "text/plain": [
       "Resultado  Erros  Acertos  Total  Extras  pct_acerto\n",
       "task                                                \n",
       "A             17       45     62      59       37.19"
      ]
     },
     "metadata": {},
     "output_type": "display_data"
    },
    {
     "data": {
      "text/html": [
       "<div>\n",
       "<style scoped>\n",
       "    .dataframe tbody tr th:only-of-type {\n",
       "        vertical-align: middle;\n",
       "    }\n",
       "\n",
       "    .dataframe tbody tr th {\n",
       "        vertical-align: top;\n",
       "    }\n",
       "\n",
       "    .dataframe thead th {\n",
       "        text-align: right;\n",
       "    }\n",
       "</style>\n",
       "<table border=\"1\" class=\"dataframe\">\n",
       "  <thead>\n",
       "    <tr style=\"text-align: right;\">\n",
       "      <th></th>\n",
       "      <th>Resultado</th>\n",
       "      <th>Erros</th>\n",
       "      <th>Acertos</th>\n",
       "      <th>Total</th>\n",
       "      <th>Extras</th>\n",
       "      <th>pct_acerto</th>\n",
       "    </tr>\n",
       "    <tr>\n",
       "      <th>task</th>\n",
       "      <th>relType_pred</th>\n",
       "      <th></th>\n",
       "      <th></th>\n",
       "      <th></th>\n",
       "      <th></th>\n",
       "      <th></th>\n",
       "    </tr>\n",
       "  </thead>\n",
       "  <tbody>\n",
       "    <tr>\n",
       "      <th rowspan=\"3\" valign=\"top\">A</th>\n",
       "      <th>BEFORE</th>\n",
       "      <td>0</td>\n",
       "      <td>1</td>\n",
       "      <td>1</td>\n",
       "      <td>1</td>\n",
       "      <td>50.00</td>\n",
       "    </tr>\n",
       "    <tr>\n",
       "      <th>OVERLAP</th>\n",
       "      <td>14</td>\n",
       "      <td>42</td>\n",
       "      <td>56</td>\n",
       "      <td>57</td>\n",
       "      <td>37.17</td>\n",
       "    </tr>\n",
       "    <tr>\n",
       "      <th>AFTER</th>\n",
       "      <td>3</td>\n",
       "      <td>2</td>\n",
       "      <td>5</td>\n",
       "      <td>1</td>\n",
       "      <td>33.33</td>\n",
       "    </tr>\n",
       "  </tbody>\n",
       "</table>\n",
       "</div>"
      ],
      "text/plain": [
       "Resultado          Erros  Acertos  Total  Extras  pct_acerto\n",
       "task relType_pred                                           \n",
       "A    BEFORE            0        1      1       1       50.00\n",
       "     OVERLAP          14       42     56      57       37.17\n",
       "     AFTER             3        2      5       1       33.33"
      ]
     },
     "metadata": {},
     "output_type": "display_data"
    },
    {
     "name": "stdout",
     "output_type": "stream",
     "text": [
      "\n",
      "\n",
      "              precision    recall  f1-score   support\n",
      "\n",
      "                  0.000     0.000     0.000        59\n",
      "       AFTER      0.333     0.154     0.211        13\n",
      "      BEFORE      0.500     0.200     0.286         5\n",
      "     OVERLAP      0.372     0.955     0.535        44\n",
      "\n",
      "    accuracy                          0.372       121\n",
      "   macro avg      0.301     0.327     0.258       121\n",
      "weighted avg      0.192     0.372     0.229       121\n",
      "\n"
     ]
    },
    {
     "data": {
      "image/png": "[encoded data removed]",
      "text/plain": [
       "<Figure size 360x288 with 2 Axes>"
      ]
     },
     "metadata": {
      "needs_background": "light"
     },
     "output_type": "display_data"
    }
   ],
   "source": [
    "rt.active_tlink_transitive = False\n",
    "rt.active_tlink_candidate  = True\n",
    "rt.tlink_candidate.approach = 'ML'  # 'REGRAS_TREE', 'ML' or 'REGRAS'\n",
    "rt.tlink_candidate.threshold = 0.3\n",
    "\n",
    "#processa todas as sentenças da task 'A'\n",
    "%time rt.process_rules()\n",
    "\n",
    "print('SÓ CANDIDATE')\n",
    "display(rt.df_resultado_por_task, rt.df_resultado_por_classe)\n",
    "rt.cm()"
   ]
  },
  {
   "cell_type": "markdown",
   "id": "497778fd-00ad-4f16-a855-f75e1e93d908",
   "metadata": {},
   "source": [
    "### + FECHAMENTO TRANSITIVO"
   ]
  },
  {
   "cell_type": "code",
   "execution_count": 6,
   "id": "cd63ca73-96c1-44e2-9ddf-fdcbd90b43af",
   "metadata": {
    "jupyter": {
     "source_hidden": true
    },
    "tags": []
   },
   "outputs": [
    {
     "name": "stdout",
     "output_type": "stream",
     "text": [
      "Wall time: 6.81 s\n",
      "OS DOIS\n"
     ]
    },
    {
     "data": {
      "text/html": [
       "<div>\n",
       "<style scoped>\n",
       "    .dataframe tbody tr th:only-of-type {\n",
       "        vertical-align: middle;\n",
       "    }\n",
       "\n",
       "    .dataframe tbody tr th {\n",
       "        vertical-align: top;\n",
       "    }\n",
       "\n",
       "    .dataframe thead th {\n",
       "        text-align: right;\n",
       "    }\n",
       "</style>\n",
       "<table border=\"1\" class=\"dataframe\">\n",
       "  <thead>\n",
       "    <tr style=\"text-align: right;\">\n",
       "      <th>Resultado</th>\n",
       "      <th>Erros</th>\n",
       "      <th>Acertos</th>\n",
       "      <th>Total</th>\n",
       "      <th>Extras</th>\n",
       "      <th>pct_acerto</th>\n",
       "    </tr>\n",
       "    <tr>\n",
       "      <th>task</th>\n",
       "      <th></th>\n",
       "      <th></th>\n",
       "      <th></th>\n",
       "      <th></th>\n",
       "      <th></th>\n",
       "    </tr>\n",
       "  </thead>\n",
       "  <tbody>\n",
       "    <tr>\n",
       "      <th>A</th>\n",
       "      <td>23</td>\n",
       "      <td>48</td>\n",
       "      <td>71</td>\n",
       "      <td>60</td>\n",
       "      <td>36.64</td>\n",
       "    </tr>\n",
       "  </tbody>\n",
       "</table>\n",
       "</div>"
      ],
      "text/plain": [
       "Resultado  Erros  Acertos  Total  Extras  pct_acerto\n",
       "task                                                \n",
       "A             23       48     71      60       36.64"
      ]
     },
     "metadata": {},
     "output_type": "display_data"
    },
    {
     "data": {
      "text/html": [
       "<div>\n",
       "<style scoped>\n",
       "    .dataframe tbody tr th:only-of-type {\n",
       "        vertical-align: middle;\n",
       "    }\n",
       "\n",
       "    .dataframe tbody tr th {\n",
       "        vertical-align: top;\n",
       "    }\n",
       "\n",
       "    .dataframe thead th {\n",
       "        text-align: right;\n",
       "    }\n",
       "</style>\n",
       "<table border=\"1\" class=\"dataframe\">\n",
       "  <thead>\n",
       "    <tr style=\"text-align: right;\">\n",
       "      <th></th>\n",
       "      <th>Resultado</th>\n",
       "      <th>Erros</th>\n",
       "      <th>Acertos</th>\n",
       "      <th>Total</th>\n",
       "      <th>Extras</th>\n",
       "      <th>pct_acerto</th>\n",
       "    </tr>\n",
       "    <tr>\n",
       "      <th>task</th>\n",
       "      <th>relType_pred</th>\n",
       "      <th></th>\n",
       "      <th></th>\n",
       "      <th></th>\n",
       "      <th></th>\n",
       "      <th></th>\n",
       "    </tr>\n",
       "  </thead>\n",
       "  <tbody>\n",
       "    <tr>\n",
       "      <th rowspan=\"3\" valign=\"top\">A</th>\n",
       "      <th>BEFORE</th>\n",
       "      <td>0</td>\n",
       "      <td>1</td>\n",
       "      <td>1</td>\n",
       "      <td>1</td>\n",
       "      <td>50.00</td>\n",
       "    </tr>\n",
       "    <tr>\n",
       "      <th>OVERLAP</th>\n",
       "      <td>19</td>\n",
       "      <td>45</td>\n",
       "      <td>64</td>\n",
       "      <td>58</td>\n",
       "      <td>36.89</td>\n",
       "    </tr>\n",
       "    <tr>\n",
       "      <th>AFTER</th>\n",
       "      <td>4</td>\n",
       "      <td>2</td>\n",
       "      <td>6</td>\n",
       "      <td>1</td>\n",
       "      <td>28.57</td>\n",
       "    </tr>\n",
       "  </tbody>\n",
       "</table>\n",
       "</div>"
      ],
      "text/plain": [
       "Resultado          Erros  Acertos  Total  Extras  pct_acerto\n",
       "task relType_pred                                           \n",
       "A    BEFORE            0        1      1       1       50.00\n",
       "     OVERLAP          19       45     64      58       36.89\n",
       "     AFTER             4        2      6       1       28.57"
      ]
     },
     "metadata": {},
     "output_type": "display_data"
    },
    {
     "name": "stdout",
     "output_type": "stream",
     "text": [
      "\n",
      "\n",
      "              precision    recall  f1-score   support\n",
      "\n",
      "                  0.000     0.000     0.000        60\n",
      "       AFTER      0.286     0.118     0.167        17\n",
      "      BEFORE      0.500     0.167     0.250         6\n",
      "     OVERLAP      0.369     0.938     0.529        48\n",
      "\n",
      "    accuracy                          0.366       131\n",
      "   macro avg      0.289     0.305     0.237       131\n",
      "weighted avg      0.195     0.366     0.227       131\n",
      "\n"
     ]
    },
    {
     "data": {
      "image/png": "[encoded data removed]",
      "text/plain": [
       "<Figure size 360x288 with 2 Axes>"
      ]
     },
     "metadata": {
      "needs_background": "light"
     },
     "output_type": "display_data"
    }
   ],
   "source": [
    "rt.active_tlink_transitive = True\n",
    "rt.active_tlink_candidate  = True\n",
    "rt.tlink_candidate.approach = 'ML'  # 'REGRAS_TREE', 'ML' or 'REGRAS'\n",
    "rt.tlink_candidate.threshold = 0.3\n",
    "\n",
    "#processa todas as sentenças da task 'A'\n",
    "%time rt.process_rules()\n",
    "\n",
    "print('OS DOIS')\n",
    "display(rt.df_resultado_por_task, rt.df_resultado_por_classe)\n",
    "rt.cm()"
   ]
  },
  {
   "cell_type": "markdown",
   "id": "f5207a93-452f-4ba9-a7cf-768acb9fa6b6",
   "metadata": {},
   "source": [
    "### ."
   ]
  }
 ],
 "metadata": {
  "kernelspec": {
   "display_name": "Python 3 (ipykernel)",
   "language": "python",
   "name": "python3"
  },
  "language_info": {
   "codemirror_mode": {
    "name": "ipython",
    "version": 3
   },
   "file_extension": ".py",
   "mimetype": "text/x-python",
   "name": "python",
   "nbconvert_exporter": "python",
   "pygments_lexer": "ipython3",
   "version": "3.9.7"
  }
 },
 "nbformat": 4,
 "nbformat_minor": 5
}
